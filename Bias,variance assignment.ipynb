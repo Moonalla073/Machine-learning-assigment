{
 "cells": [
  {
   "cell_type": "markdown",
   "id": "c48cf862-c224-46a3-8a75-3b17a3a115c6",
   "metadata": {},
   "source": [
    "Q1: Define overfitting and underfitting in machine learning. What are the consequences of each, and how\n",
    "can they be mitigated?"
   ]
  },
  {
   "cell_type": "markdown",
   "id": "76e8d448-444d-4467-bcc2-51d4ee587ac3",
   "metadata": {},
   "source": [
    "Overfitting is where the models accuracy with respect to train dataset is high and the accuracy with respect to test dataset is low. It has low bias and high variance. When the model is trained so well it might even consider the moise and irrelavant feautures during the training stage and may not perform well during the test stage.\n",
    "To avoid this we can increase the training dataset to increase model's ability to generalize to unseen data and reduce overfitting.We can also reduce the model complexity.\n",
    "\n",
    "Underfitting is where the model doesnot perform well in both training stage and test stage.The accuracy is low.It has high bias and high variance.This could be avoided by making the model more complex and increase the number of independent feautures."
   ]
  },
  {
   "cell_type": "markdown",
   "id": "3b6823b3-3596-4d3a-9934-06e2b14d5564",
   "metadata": {},
   "source": [
    "Q2: How can we reduce overfitting? Explain in brief."
   ]
  },
  {
   "cell_type": "markdown",
   "id": "7270f885-ecdc-4922-8507-59a35e7c1732",
   "metadata": {},
   "source": [
    "Overfitting is where the models accuracy with respect to train dataset is high and the accuracy with respect to test dataset is low. It has low bias and high variance. When the model is trained so well it might even consider the moise and irrelavant feautures during the training stage and may not perform well during the test stage. To avoid this we can increase the training dataset to increase model's ability to generalize to unseen data and reduce overfitting.We can also reduce the model complexity."
   ]
  },
  {
   "cell_type": "markdown",
   "id": "a6ebf827-2c4d-4284-b17a-74ae80781bef",
   "metadata": {},
   "source": [
    "Q3: Explain underfitting. List scenarios where underfitting can occur in ML."
   ]
  },
  {
   "cell_type": "markdown",
   "id": "69a8caf1-18de-491b-a189-ba533ea811a4",
   "metadata": {},
   "source": [
    "Underfitting is where the model doesnot perform well in both training stage and test stage.The accuracy is low.It has high bias and high variance.This could be avoided by making the model more complex and increase the number of independent feautures.        \n",
    "ex: Trying to fit the dataset in a straingt line that follows a curve."
   ]
  },
  {
   "cell_type": "markdown",
   "id": "53fb0ebf-bbe8-479b-9ce6-fa754f3ff530",
   "metadata": {},
   "source": [
    "Q4: Explain the bias-variance tradeoff in machine learning. What is the relationship between bias and\n",
    "variance, and how do they affect model performance?"
   ]
  },
  {
   "cell_type": "markdown",
   "id": "2a0626f5-8e41-4ec3-87f9-236d96a9582b",
   "metadata": {},
   "source": [
    "Bias bascially represents the accuracy of training dataset and variance reprsents the accuracy of test dataset.They are inversly related. If the model is performing well during training stage it has low bias and if the model is performing during the test stage it has low variance. Bias-variance tradeoff helps optimize the error in our model and keep it as low as possible to increase the model performace."
   ]
  },
  {
   "cell_type": "markdown",
   "id": "6318e869-f998-4667-8d0f-f003ceba1fdb",
   "metadata": {},
   "source": [
    "Q5: Discuss some common methods for detecting overfitting and underfitting in machine learning models.\n",
    "How can you determine whether your model is overfitting or underfitting?"
   ]
  },
  {
   "cell_type": "markdown",
   "id": "e87cbaae-b334-4414-a514-488471c96b93",
   "metadata": {},
   "source": [
    "Most common method to detect overfitting and underfitting in ML models is to split the data. You can split the data to have train,validate and test data.By comparing the model performance in each dataset you can identify whether the model is overfitting or underfitting."
   ]
  },
  {
   "cell_type": "markdown",
   "id": "dc64e64e-c2de-4b4e-92c6-6155a761f8ba",
   "metadata": {},
   "source": [
    "Q6: Compare and contrast bias and variance in machine learning. What are some examples of high bias\n",
    "and high variance models, and how do they differ in terms of their performance?"
   ]
  },
  {
   "cell_type": "markdown",
   "id": "3b8ef80b-466a-4104-8c20-f71156cc800a",
   "metadata": {},
   "source": [
    "Bias is represented with respect to training dataset and variance is represented with respect to test dataset.If the model has high bias and high variance that represents that model has low accuracy in both training and test stage.       \n",
    "eg: simple linear regression model if the dataset has non linear relation."
   ]
  },
  {
   "cell_type": "markdown",
   "id": "0ec85f99-b1e7-4073-a764-04ba9ac3829d",
   "metadata": {},
   "source": [
    "Q7: What is regularization in machine learning, and how can it be used to prevent overfitting? Describe\n",
    "some common regularization techniques and how they work."
   ]
  },
  {
   "cell_type": "markdown",
   "id": "83c53398-c446-451c-ad71-609bc84480d1",
   "metadata": {},
   "source": [
    "Regularization is set of methods for reducing overfitting in machine learning models.\n",
    "Ex:Ridge regression ,it is a regularization technique used to reduce the complexity of a model."
   ]
  }
 ],
 "metadata": {
  "kernelspec": {
   "display_name": "Python 3 (ipykernel)",
   "language": "python",
   "name": "python3"
  },
  "language_info": {
   "codemirror_mode": {
    "name": "ipython",
    "version": 3
   },
   "file_extension": ".py",
   "mimetype": "text/x-python",
   "name": "python",
   "nbconvert_exporter": "python",
   "pygments_lexer": "ipython3",
   "version": "3.10.8"
  }
 },
 "nbformat": 4,
 "nbformat_minor": 5
}
