{
 "cells": [
  {
   "cell_type": "markdown",
   "id": "27f35c81-c0d8-4eb1-8a7e-6c92466df00d",
   "metadata": {},
   "source": [
    "Q1- Explain the following with an example\n",
    "i) Artificial Intelligence\n",
    "ii) Machine learning\n",
    "iii) Deep learning"
   ]
  },
  {
   "cell_type": "markdown",
   "id": "afc09039-ef5f-4ab7-8995-d46c7e7e24e5",
   "metadata": {},
   "source": [
    "Artifical intelligence is basically the smart applications that can perform on its own without any human intervention.\n",
    "ex: robots, self driving cars,virtual assistants like siri and alexa etc\n",
    "\n",
    "Machine learning is a subset of AI. This is basically a way to make the machine learn on its own without much of human intervention.This basically happens in a way where the machine was fed with data and it analyzes the data to discover hidden patterns and make the decisions on its own.\n",
    "ex:Time series,recommendation systems etc\n",
    "\n",
    "Deep learning is a subset of machine learning. It basically focuses to mimic the human brain.It works with multi layered neural networks.\n",
    "ex:chatgpt, chatbot etc"
   ]
  },
  {
   "cell_type": "markdown",
   "id": "7b0413d7-2422-4a15-a7be-a00183dac376",
   "metadata": {},
   "source": [
    "Q2- What is supervised learning?List some examples of supervised learning"
   ]
  },
  {
   "cell_type": "markdown",
   "id": "ed77d66a-424a-4d82-b6d5-077d562d4b36",
   "metadata": {},
   "source": [
    "Supervised ML is where the model is trainined with input-ouput pairs as input dataset.It has classification and regression problem statements.\n",
    "ex: time series,house price prediction"
   ]
  },
  {
   "cell_type": "markdown",
   "id": "c754af1b-18e6-491c-9648-0665eca6dfe3",
   "metadata": {},
   "source": [
    "Q3- What is unsupervised learning?List some examples of unsupervised learning"
   ]
  },
  {
   "cell_type": "markdown",
   "id": "e0a8d48d-cf32-4346-bc1b-ea04d16a017d",
   "metadata": {},
   "source": [
    "Unsupervised ML is where there is no training stage. The model is provided with only input dataset to find the hidden patterns and make clusters or groups.\n",
    "ex:customer segmentation"
   ]
  },
  {
   "cell_type": "markdown",
   "id": "5ec28e9f-3578-4122-af0b-e43f77e147d9",
   "metadata": {},
   "source": [
    "Q4- What is the diiference between AI, ML, DL, and DS?"
   ]
  },
  {
   "cell_type": "markdown",
   "id": "775da779-facc-484b-8598-ef660b0c3173",
   "metadata": {},
   "source": [
    "AI is the smart application that performs on its own. ML is the subset of AI which provides stattools to develop the models.DL is a subset of ML that basically focuses to mimic human brain. Data science is a study of all the applications of AI and data scientist is a person who works with all the data science applications to perform various tasks and develop smart AI applications."
   ]
  },
  {
   "cell_type": "markdown",
   "id": "94999f1b-4dd3-4566-9b9b-374a96cba930",
   "metadata": {},
   "source": [
    "Q5- What are the main differences between supervised,unsupervised and semi-supervised learning?"
   ]
  },
  {
   "cell_type": "markdown",
   "id": "ede2803c-1192-4063-8c38-33d9fd0cae22",
   "metadata": {},
   "source": [
    "Supervised learning has training stage where the model is trained with input-output pairs of input dataset whereas in unsupervised learning there is no training stage.Semi supervised learning is the combination of supervised and unsupervised machine learning"
   ]
  },
  {
   "cell_type": "markdown",
   "id": "471ed4bb-4ff1-4c5f-829e-b8166d086996",
   "metadata": {},
   "source": [
    "Q6- What is train, test and validation split? Explain the importance of each term."
   ]
  },
  {
   "cell_type": "markdown",
   "id": "af5da668-47ff-470b-a782-44a5ea4cc4a0",
   "metadata": {},
   "source": [
    "Training dataset will train the model,validation is used for hyper paramter tuning of the model and test dataset is used to test the accuracy of the model. The model will have no idea of test dataset."
   ]
  },
  {
   "cell_type": "markdown",
   "id": "cb998987-4d7c-4d60-965c-0dacacc00e34",
   "metadata": {},
   "source": [
    "Q7- How can unsupervised learning be used in anomaly detection?"
   ]
  },
  {
   "cell_type": "markdown",
   "id": "935db727-be5c-4eee-adba-134e679f6652",
   "metadata": {},
   "source": [
    "Unsupervised learning can be used to identify the clusters or group of data points that are deviated from the observed data points of high density."
   ]
  },
  {
   "cell_type": "markdown",
   "id": "fa8759d1-207d-48e4-b8fd-2a52a192fc1b",
   "metadata": {},
   "source": [
    "Q8- List down some commonly used supervised learning algorithms and unsupervised learning\n",
    "algorithms."
   ]
  },
  {
   "cell_type": "markdown",
   "id": "d5c67781-f972-4b1f-9dec-e0c8013b81df",
   "metadata": {},
   "source": [
    "Supervided - Simple linear regression,decision tree     \n",
    "Unsupervised - Support Vector Machine,K-nearest neighbour"
   ]
  },
  {
   "cell_type": "code",
   "execution_count": null,
   "id": "760751ce-b14d-4eb5-b9a4-0d970d41ac12",
   "metadata": {},
   "outputs": [],
   "source": []
  }
 ],
 "metadata": {
  "kernelspec": {
   "display_name": "Python 3 (ipykernel)",
   "language": "python",
   "name": "python3"
  },
  "language_info": {
   "codemirror_mode": {
    "name": "ipython",
    "version": 3
   },
   "file_extension": ".py",
   "mimetype": "text/x-python",
   "name": "python",
   "nbconvert_exporter": "python",
   "pygments_lexer": "ipython3",
   "version": "3.10.8"
  }
 },
 "nbformat": 4,
 "nbformat_minor": 5
}
